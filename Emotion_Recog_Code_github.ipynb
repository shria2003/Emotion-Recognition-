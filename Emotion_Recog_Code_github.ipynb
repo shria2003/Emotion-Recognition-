{
 "cells": [
  {
   "cell_type": "markdown",
   "id": "c7771617",
   "metadata": {
    "execution": {
     "iopub.execute_input": "2021-10-28T16:21:47.129947Z",
     "iopub.status.busy": "2021-10-28T16:21:47.129681Z",
     "iopub.status.idle": "2021-10-28T16:21:47.135185Z",
     "shell.execute_reply": "2021-10-28T16:21:47.134018Z",
     "shell.execute_reply.started": "2021-10-28T16:21:47.129921Z"
    },
    "papermill": {
     "duration": 0.024337,
     "end_time": "2023-12-27T04:16:11.042578",
     "exception": false,
     "start_time": "2023-12-27T04:16:11.018241",
     "status": "completed"
    },
    "tags": []
   },
   "source": [
    "# Emotion Recognition using OpenCV and Pytorch"
   ]
  },
  {
   "cell_type": "markdown",
   "id": "041329aa",
   "metadata": {},
   "source": [
    "### Abstract\n",
    "This paper investigates the use of TensorFlow with a DenseNet169 model for emotion recognition. Preprocessing picture data, optimizing the model, and testing its efficacy on a variety of datasets are all part of the inquiry. The paper explores the processes of training and fine-tuning, using visualizations like accuracy and loss charts. It also contains a thorough examination of the metrics used in the model assessment process, such as the classification report and confusion matrix. A real-time prediction demonstration utilizing webcam input rounds off the report. The results highlight the proposed emotion detection model's potential applicability in real-world circumstances and provide insights into its efficacy."
   ]
  },
  {
   "cell_type": "markdown",
   "id": "50319674",
   "metadata": {
    "papermill": {
     "duration": 0.024007,
     "end_time": "2023-12-27T04:16:11.090949",
     "exception": false,
     "start_time": "2023-12-27T04:16:11.066942",
     "status": "completed"
    },
    "tags": []
   },
   "source": [
    "### Table of Contents\n",
    "\n",
    "[1. Imports](#im)\\\n",
    "[2. HyperParameters](#hp)\\\n",
    "[3. Data Loading and Preprocessing](#data)\\\n",
    "[4. DenseNet169 Model](#model)\\\n",
    "[5. Training and Fine Tuning](#train)\\\n",
    "[6. Visualizing Results](#vis)"
   ]
  },
  {
   "cell_type": "markdown",
   "id": "070156ea",
   "metadata": {},
   "source": [
    "### Problem Statement\n",
    "Through the activation of certain facial muscles, people may express their emotions through their features. These expressions can be hard to interpret, but they can occasionally be correct; a person's facial expressions can reveal a lot about their emotional state. People are usually good at identifying and understanding other people's feelings. The seven emotions on the human face that may be broadly categorized are anger, contempt, disgust, fear, happiness, sorrow, and surprise. In this project, the source code for a face expression recognition system will be implemented using Python. Deep neural networks will be used to tackle challenging problems such as face expression recognition. Facial expression recognition algorithms are crucial in the field of computer vision nowadays.\n"
   ]
  },
  {
   "cell_type": "markdown",
   "id": "b898782f",
   "metadata": {
    "execution": {
     "iopub.execute_input": "2021-10-28T16:25:41.041859Z",
     "iopub.status.busy": "2021-10-28T16:25:41.041154Z",
     "iopub.status.idle": "2021-10-28T16:25:41.047378Z",
     "shell.execute_reply": "2021-10-28T16:25:41.046222Z",
     "shell.execute_reply.started": "2021-10-28T16:25:41.041821Z"
    },
    "papermill": {
     "duration": 0.024148,
     "end_time": "2023-12-27T04:16:11.139382",
     "exception": false,
     "start_time": "2023-12-27T04:16:11.115234",
     "status": "completed"
    },
    "tags": []
   },
   "source": [
    "<a id=\"im\"></a>\n",
    "#### LIBRARY AND IMPORTS"
   ]
  },
  {
   "cell_type": "code",
   "execution_count": 3,
   "id": "019ade6d",
   "metadata": {
    "execution": {
     "iopub.execute_input": "2023-12-27T04:16:11.206703Z",
     "iopub.status.busy": "2023-12-27T04:16:11.201748Z",
     "iopub.status.idle": "2023-12-27T04:16:19.946498Z",
     "shell.execute_reply": "2023-12-27T04:16:19.945684Z",
     "shell.execute_reply.started": "2023-12-27T03:44:52.702228Z"
    },
    "papermill": {
     "duration": 8.779357,
     "end_time": "2023-12-27T04:16:19.946675",
     "exception": false,
     "start_time": "2023-12-27T04:16:11.167318",
     "status": "completed"
    },
    "tags": []
   },
   "outputs": [],
   "source": [
    "import pandas as pd\n",
    "import numpy as np\n",
    "import matplotlib.pyplot as plt\n",
    "import seaborn as sns\n",
    "import plotly.express as px\n",
    "\n",
    "import tensorflow as tf\n",
    "from tensorflow.keras.preprocessing.image import ImageDataGenerator\n",
    "from tensorflow.keras.utils import to_categorical\n",
    "\n",
    "from sklearn.metrics import roc_curve, auc, roc_auc_score\n",
    "from sklearn.preprocessing import LabelBinarizer\n",
    "from sklearn.metrics import confusion_matrix , classification_report \n",
    "\n",
    "import warnings\n",
    "warnings.filterwarnings('ignore')\n",
    "from IPython.display import clear_output"
   ]
  },
  {
   "cell_type": "markdown",
   "id": "e15e4244",
   "metadata": {
    "papermill": {
     "duration": 0.024778,
     "end_time": "2023-12-27T04:16:19.996485",
     "exception": false,
     "start_time": "2023-12-27T04:16:19.971707",
     "status": "completed"
    },
    "tags": []
   },
   "source": [
    "<a id=\"hp\"></a>\n",
    "#### HYPERPARAMETRERS AND DIRECTORIES"
   ]
  },
  {
   "cell_type": "code",
   "execution_count": 3,
   "id": "2f5ad745",
   "metadata": {
    "execution": {
     "iopub.execute_input": "2023-12-27T04:16:20.051766Z",
     "iopub.status.busy": "2023-12-27T04:16:20.051062Z",
     "iopub.status.idle": "2023-12-27T04:16:20.053658Z",
     "shell.execute_reply": "2023-12-27T04:16:20.053168Z",
     "shell.execute_reply.started": "2023-12-27T03:45:00.725271Z"
    },
    "papermill": {
     "duration": 0.032671,
     "end_time": "2023-12-27T04:16:20.053779",
     "exception": false,
     "start_time": "2023-12-27T04:16:20.021108",
     "status": "completed"
    },
    "tags": []
   },
   "outputs": [],
   "source": [
    "train_dir = \"archive/train\"\n",
    "test_dir = \"archive/test\"\n",
    "\n",
    "SEED = 12\n",
    "BATCH_SIZE = 64\n",
    "HEIGHT_OF_IMG = 48\n",
    "WIDTH_OF_IMG = 48\n",
    "HYPERTUNNING_EPOCHS = 20\n",
    "EARLY_STOPPING_CRITERIA=3\n",
    "EPOCHS = 30\n",
    "LR = 0.01\n",
    "CATEGORICAL_CLASSES = 7\n",
    "CLASS_LABELS  = ['Anger', 'Disgust', 'Fear', 'Happy', 'Neutral', 'Sadness', \"Surprise\"]\n",
    "LABELLED_EMOJIS = [\"👿\", \"🤢\" , \"😱\" , \"😊\" , \"😐 \", \"😔\" , \"😲\" ]"
   ]
  },
  {
   "cell_type": "markdown",
   "id": "f439687d",
   "metadata": {
    "papermill": {
     "duration": 0.02411,
     "end_time": "2023-12-27T04:16:20.102267",
     "exception": false,
     "start_time": "2023-12-27T04:16:20.078157",
     "status": "completed"
    },
    "tags": []
   },
   "source": [
    "<a id=\"data\"></a>\n",
    "#### DATA LOADING AND PRE-PROCESSING"
   ]
  },
  {
   "cell_type": "code",
   "execution_count": 4,
   "id": "f7b485a1",
   "metadata": {
    "_kg_hide-input": true,
    "execution": {
     "iopub.execute_input": "2023-12-27T04:16:20.161171Z",
     "iopub.status.busy": "2023-12-27T04:16:20.160574Z",
     "iopub.status.idle": "2023-12-27T04:16:48.431768Z",
     "shell.execute_reply": "2023-12-27T04:16:48.431112Z",
     "shell.execute_reply.started": "2023-12-27T03:45:00.732365Z"
    },
    "papermill": {
     "duration": 28.304621,
     "end_time": "2023-12-27T04:16:48.431912",
     "exception": false,
     "start_time": "2023-12-27T04:16:20.127291",
     "status": "completed"
    },
    "tags": []
   },
   "outputs": [
    {
     "name": "stdout",
     "output_type": "stream",
     "text": [
      "Found 22968 images belonging to 7 classes.\n",
      "Found 5741 images belonging to 7 classes.\n",
      "Found 7178 images belonging to 7 classes.\n"
     ]
    }
   ],
   "source": [
    "preprocess = tf.keras.applications.densenet.preprocess_input\n",
    "\n",
    "generatedata_train = ImageDataGenerator(horizontal_flip=True,\n",
    "                                   width_shift_range=0.1,\n",
    "                                   height_shift_range=0.05,\n",
    "                                   rescale = 1./255,\n",
    "                                   validation_split = 0.2,\n",
    "                                   preprocessing_function=preprocess\n",
    "                                  )\n",
    "generatedata_test = ImageDataGenerator(rescale = 1./255,\n",
    "                                  validation_split = 0.2\n",
    "                                  ,\n",
    "                                  preprocessing_function=preprocess)\n",
    "\n",
    "generatorfunc_train = generatedata_train.flow_from_directory(directory = train_dir,\n",
    "                                                    target_size = (HEIGHT_OF_IMG ,WIDTH_OF_IMG),\n",
    "                                                    batch_size = BATCH_SIZE,\n",
    "                                                    shuffle  = True , \n",
    "                                                    color_mode = \"rgb\",\n",
    "                                                    class_mode = \"categorical\",\n",
    "                                                    subset = \"training\",\n",
    "                                                    seed = 12\n",
    "                                                   )\n",
    "\n",
    "generatorfunc_valid = generatedata_test.flow_from_directory(directory = train_dir,\n",
    "                                                         target_size = (HEIGHT_OF_IMG ,WIDTH_OF_IMG),\n",
    "                                                         batch_size = BATCH_SIZE,\n",
    "                                                         shuffle  = True , \n",
    "                                                         color_mode = \"rgb\",\n",
    "                                                         class_mode = \"categorical\",\n",
    "                                                         subset = \"validation\",\n",
    "                                                         seed = 12\n",
    "                                                        )\n",
    "\n",
    "generatorfunc_test = generatedata_test.flow_from_directory(directory = test_dir,\n",
    "                                                   target_size = (HEIGHT_OF_IMG ,WIDTH_OF_IMG),\n",
    "                                                    batch_size = BATCH_SIZE,\n",
    "                                                    shuffle  = False , \n",
    "                                                    color_mode = \"rgb\",\n",
    "                                                    class_mode = \"categorical\",\n",
    "                                                    seed = 12\n",
    "                                                  )"
   ]
  },
  {
   "cell_type": "markdown",
   "id": "2d17c093",
   "metadata": {
    "papermill": {
     "duration": 0.025026,
     "end_time": "2023-12-27T04:16:48.483110",
     "exception": false,
     "start_time": "2023-12-27T04:16:48.458084",
     "status": "completed"
    },
    "tags": []
   },
   "source": [
    "IMAGES WITH DIFFERENT EMOTIONS"
   ]
  },
  {
   "cell_type": "code",
   "execution_count": 5,
   "id": "0426d3e9",
   "metadata": {
    "_kg_hide-input": true,
    "execution": {
     "iopub.execute_input": "2023-12-27T04:16:48.547240Z",
     "iopub.status.busy": "2023-12-27T04:16:48.546322Z",
     "iopub.status.idle": "2023-12-27T04:16:54.902012Z",
     "shell.execute_reply": "2023-12-27T04:16:54.902511Z",
     "shell.execute_reply.started": "2023-12-27T03:45:36.577087Z"
    },
    "papermill": {
     "duration": 6.394303,
     "end_time": "2023-12-27T04:16:54.902673",
     "exception": false,
     "start_time": "2023-12-27T04:16:48.508370",
     "status": "completed"
    },
    "tags": []
   },
   "outputs": [
    {
     "data": {
      "image/png": "[encoded data removed]",
      "text/plain": [
       "<Figure size 1300x1300 with 9 Axes>"
      ]
     },
     "metadata": {},
     "output_type": "display_data"
    }
   ],
   "source": [
    "# Helper Functions\n",
    "def demo_display(img, title, subplot, color):\n",
    "    plt.subplot(subplot)\n",
    "    plt.axis('off')\n",
    "    plt.imshow(img)\n",
    "    plt.title(title, fontsize=16)\n",
    "    \n",
    "def demo_ninedisplay(img, heading, heading_colors=None):\n",
    "    subplot = 331\n",
    "    plt.figure(figsize=(13,13))\n",
    "    for i in range(9):\n",
    "        color = 'black' if heading_colors is None else heading_colors[i]\n",
    "        demo_display(img[i], heading[i], 331+i, color)\n",
    "    plt.tight_layout()\n",
    "    plt.subplots_adjust(wspace=0.1, hspace=0.1)\n",
    "    plt.show()\n",
    "\n",
    "def image_heading(labels, predict):\n",
    "  # Both prediction (probabilities) and label (one-hot) are arrays with one item per class.\n",
    "    index_of_class = np.argmax(labels, axis=-1)\n",
    "    predict_index = np.argmax(predict, axis=-1)\n",
    "    if index_of_class == predict_index:\n",
    "        return f'{CLASS_LABELS[predict_index]} [correct]', 'black'\n",
    "    else:\n",
    "        return f'{CLASS_LABELS[predict_index]} [incorrect, should be {CLASS_LABELS[index_of_class]}]', 'red'\n",
    "\n",
    "def get_titles(images, labels, model):\n",
    "    predictions = model.predict(images)\n",
    "    headings, colors = [], []\n",
    "    for label, predict in zip(classes, predictions):\n",
    "        heading, paint = image_heading(label, predict)\n",
    "        headings.append(heading)\n",
    "        colors.append(paint)\n",
    "    return headings, colors\n",
    "\n",
    "datagen_image = ImageDataGenerator(rescale = 1./255)\n",
    "generator_image = datagen_image.flow_from_directory(directory = train_dir,\n",
    "                                                   target_size = (HEIGHT_OF_IMG ,WIDTH_OF_IMG),\n",
    "                                                    batch_size = BATCH_SIZE,\n",
    "                                                    shuffle  = True , \n",
    "                                                    color_mode = \"rgb\",\n",
    "                                                    class_mode = \"categorical\",\n",
    "                                                    seed = 12\n",
    "                                                  )\n",
    "clear_output()\n",
    "\n",
    "images, classes = next(generator_image)\n",
    "index_of_classs = np.argmax(classes, axis=-1) \n",
    "labels = [CLASS_LABELS[idx] for idx in index_of_classs]\n",
    "demo_ninedisplay(images, labels)"
   ]
  },
  {
   "cell_type": "markdown",
   "id": "1cd0ba35",
   "metadata": {
    "papermill": {
     "duration": 0.0278,
     "end_time": "2023-12-27T04:16:54.959441",
     "exception": false,
     "start_time": "2023-12-27T04:16:54.931641",
     "status": "completed"
    },
    "tags": []
   },
   "source": [
    "Data distribution (count) among differnt emotions"
   ]
  },
  {
   "cell_type": "code",
   "execution_count": 6,
   "id": "0c5be7bc",
   "metadata": {
    "_kg_hide-input": true,
    "execution": {
     "iopub.execute_input": "2023-12-27T04:16:55.022995Z",
     "iopub.status.busy": "2023-12-27T04:16:55.022311Z",
     "iopub.status.idle": "2023-12-27T04:16:55.861218Z",
     "shell.execute_reply": "2023-12-27T04:16:55.860683Z",
     "shell.execute_reply.started": "2023-12-27T03:45:42.999559Z"
    },
    "papermill": {
     "duration": 0.874076,
     "end_time": "2023-12-27T04:16:55.861354",
     "exception": false,
     "start_time": "2023-12-27T04:16:54.987278",
     "status": "completed"
    },
    "tags": []
   },
   "outputs": [
    {
     "data": {
      "application/vnd.plotly.v1+json": {
       "config": {
        "plotlyServerURL": "https://plot.ly"
       },
       "data": [
        {
         "alignmentgroup": "True",
         "hovertemplate": "x=%{x}<br>y=%{y}<br>color=%{marker.color}<extra></extra>",
         "legendgroup": "",
         "marker": {
          "color": [
           0,
           1,
           2,
           3,
           4,
           5,
           6
          ],
          "coloraxis": "coloraxis",
          "pattern": {
           "shape": ""
          }
         },
         "name": "",
         "offsetgroup": "",
         "orientation": "v",
         "showlegend": false,
         "textposition": "auto",
         "type": "bar",
         "x": [
          "👿",
          "🤢",
          "😱",
          "😊",
          "😐 ",
          "😔",
          "😲"
         ],
         "xaxis": "x",
         "y": [
          3196,
          349,
          3278,
          5772,
          3972,
          3864,
          2537
         ],
         "yaxis": "y"
        }
       ],
       "layout": {
        "barmode": "relative",
        "coloraxis": {
         "colorbar": {
          "title": {
           "text": "color"
          }
         },
         "colorscale": [
          [
           0,
           "rgb(211, 242, 163)"
          ],
          [
           0.16666666666666666,
           "rgb(151, 225, 150)"
          ],
          [
           0.3333333333333333,
           "rgb(108, 192, 139)"
          ],
          [
           0.5,
           "rgb(76, 155, 130)"
          ],
          [
           0.6666666666666666,
           "rgb(33, 122, 121)"
          ],
          [
           0.8333333333333334,
           "rgb(16, 89, 101)"
          ],
          [
           1,
           "rgb(7, 64, 80)"
          ]
         ]
        },
        "legend": {
         "tracegroupgap": 0
        },
        "margin": {
         "t": 60
        },
        "showlegend": true,
        "template": {
         "data": {
          "bar": [
           {
            "error_x": {
             "color": "#2a3f5f"
            },
            "error_y": {
             "color": "#2a3f5f"
            },
            "marker": {
             "line": {
              "color": "#E5ECF6",
              "width": 0.5
             },
             "pattern": {
              "fillmode": "overlay",
              "size": 10,
              "solidity": 0.2
             }
            },
            "type": "bar"
           }
          ],
          "barpolar": [
           {
            "marker": {
             "line": {
              "color": "#E5ECF6",
              "width": 0.5
             },
             "pattern": {
              "fillmode": "overlay",
              "size": 10,
              "solidity": 0.2
             }
            },
            "type": "barpolar"
           }
          ],
          "carpet": [
           {
            "aaxis": {
             "endlinecolor": "#2a3f5f",
             "gridcolor": "white",
             "linecolor": "white",
             "minorgridcolor": "white",
             "startlinecolor": "#2a3f5f"
            },
            "baxis": {
             "endlinecolor": "#2a3f5f",
             "gridcolor": "white",
             "linecolor": "white",
             "minorgridcolor": "white",
             "startlinecolor": "#2a3f5f"
            },
            "type": "carpet"
           }
          ],
          "choropleth": [
           {
            "colorbar": {
             "outlinewidth": 0,
             "ticks": ""
            },
            "type": "choropleth"
           }
          ],
          "contour": [
           {
            "colorbar": {
             "outlinewidth": 0,
             "ticks": ""
            },
            "colorscale": [
             [
              0,
              "#0d0887"
             ],
             [
              0.1111111111111111,
              "#46039f"
             ],
             [
              0.2222222222222222,
              "#7201a8"
             ],
             [
              0.3333333333333333,
              "#9c179e"
             ],
             [
              0.4444444444444444,
              "#bd3786"
             ],
             [
              0.5555555555555556,
              "#d8576b"
             ],
             [
              0.6666666666666666,
              "#ed7953"
             ],
             [
              0.7777777777777778,
              "#fb9f3a"
             ],
             [
              0.8888888888888888,
              "#fdca26"
             ],
             [
              1,
              "#f0f921"
             ]
            ],
            "type": "contour"
           }
          ],
          "contourcarpet": [
           {
            "colorbar": {
             "outlinewidth": 0,
             "ticks": ""
            },
            "type": "contourcarpet"
           }
          ],
          "heatmap": [
           {
            "colorbar": {
             "outlinewidth": 0,
             "ticks": ""
            },
            "colorscale": [
             [
              0,
              "#0d0887"
             ],
             [
              0.1111111111111111,
              "#46039f"
             ],
             [
              0.2222222222222222,
              "#7201a8"
             ],
             [
              0.3333333333333333,
              "#9c179e"
             ],
             [
              0.4444444444444444,
              "#bd3786"
             ],
             [
              0.5555555555555556,
              "#d8576b"
             ],
             [
              0.6666666666666666,
              "#ed7953"
             ],
             [
              0.7777777777777778,
              "#fb9f3a"
             ],
             [
              0.8888888888888888,
              "#fdca26"
             ],
             [
              1,
              "#f0f921"
             ]
            ],
            "type": "heatmap"
           }
          ],
          "heatmapgl": [
           {
            "colorbar": {
             "outlinewidth": 0,
             "ticks": ""
            },
            "colorscale": [
             [
              0,
              "#0d0887"
             ],
             [
              0.1111111111111111,
              "#46039f"
             ],
             [
              0.2222222222222222,
              "#7201a8"
             ],
             [
              0.3333333333333333,
              "#9c179e"
             ],
             [
              0.4444444444444444,
              "#bd3786"
             ],
             [
              0.5555555555555556,
              "#d8576b"
             ],
             [
              0.6666666666666666,
              "#ed7953"
             ],
             [
              0.7777777777777778,
              "#fb9f3a"
             ],
             [
              0.8888888888888888,
              "#fdca26"
             ],
             [
              1,
              "#f0f921"
             ]
            ],
            "type": "heatmapgl"
           }
          ],
          "histogram": [
           {
            "marker": {
             "pattern": {
              "fillmode": "overlay",
              "size": 10,
              "solidity": 0.2
             }
            },
            "type": "histogram"
           }
          ],
          "histogram2d": [
           {
            "colorbar": {
             "outlinewidth": 0,
             "ticks": ""
            },
            "colorscale": [
             [
              0,
              "#0d0887"
             ],
             [
              0.1111111111111111,
              "#46039f"
             ],
             [
              0.2222222222222222,
              "#7201a8"
             ],
             [
              0.3333333333333333,
              "#9c179e"
             ],
             [
              0.4444444444444444,
              "#bd3786"
             ],
             [
              0.5555555555555556,
              "#d8576b"
             ],
             [
              0.6666666666666666,
              "#ed7953"
             ],
             [
              0.7777777777777778,
              "#fb9f3a"
             ],
             [
              0.8888888888888888,
              "#fdca26"
             ],
             [
              1,
              "#f0f921"
             ]
            ],
            "type": "histogram2d"
           }
          ],
          "histogram2dcontour": [
           {
            "colorbar": {
             "outlinewidth": 0,
             "ticks": ""
            },
            "colorscale": [
             [
              0,
              "#0d0887"
             ],
             [
              0.1111111111111111,
              "#46039f"
             ],
             [
              0.2222222222222222,
              "#7201a8"
             ],
             [
              0.3333333333333333,
              "#9c179e"
             ],
             [
              0.4444444444444444,
              "#bd3786"
             ],
             [
              0.5555555555555556,
              "#d8576b"
             ],
             [
              0.6666666666666666,
              "#ed7953"
             ],
             [
              0.7777777777777778,
              "#fb9f3a"
             ],
             [
              0.8888888888888888,
              "#fdca26"
             ],
             [
              1,
              "#f0f921"
             ]
            ],
            "type": "histogram2dcontour"
           }
          ],
          "mesh3d": [
           {
            "colorbar": {
             "outlinewidth": 0,
             "ticks": ""
            },
            "type": "mesh3d"
           }
          ],
          "parcoords": [
           {
            "line": {
             "colorbar": {
              "outlinewidth": 0,
              "ticks": ""
             }
            },
            "type": "parcoords"
           }
          ],
          "pie": [
           {
            "automargin": true,
            "type": "pie"
           }
          ],
          "scatter": [
           {
            "fillpattern": {
             "fillmode": "overlay",
             "size": 10,
             "solidity": 0.2
            },
            "type": "scatter"
           }
          ],
          "scatter3d": [
           {
            "line": {
             "colorbar": {
              "outlinewidth": 0,
              "ticks": ""
             }
            },
            "marker": {
             "colorbar": {
              "outlinewidth": 0,
              "ticks": ""
             }
            },
            "type": "scatter3d"
           }
          ],
          "scattercarpet": [
           {
            "marker": {
             "colorbar": {
              "outlinewidth": 0,
              "ticks": ""
             }
            },
            "type": "scattercarpet"
           }
          ],
          "scattergeo": [
           {
            "marker": {
             "colorbar": {
              "outlinewidth": 0,
              "ticks": ""
             }
            },
            "type": "scattergeo"
           }
          ],
          "scattergl": [
           {
            "marker": {
             "colorbar": {
              "outlinewidth": 0,
              "ticks": ""
             }
            },
            "type": "scattergl"
           }
          ],
          "scattermapbox": [
           {
            "marker": {
             "colorbar": {
              "outlinewidth": 0,
              "ticks": ""
             }
            },
            "type": "scattermapbox"
           }
          ],
          "scatterpolar": [
           {
            "marker": {
             "colorbar": {
              "outlinewidth": 0,
              "ticks": ""
             }
            },
            "type": "scatterpolar"
           }
          ],
          "scatterpolargl": [
           {
            "marker": {
             "colorbar": {
              "outlinewidth": 0,
              "ticks": ""
             }
            },
            "type": "scatterpolargl"
           }
          ],
          "scatterternary": [
           {
            "marker": {
             "colorbar": {
              "outlinewidth": 0,
              "ticks": ""
             }
            },
            "type": "scatterternary"
           }
          ],
          "surface": [
           {
            "colorbar": {
             "outlinewidth": 0,
             "ticks": ""
            },
            "colorscale": [
             [
              0,
              "#0d0887"
             ],
             [
              0.1111111111111111,
              "#46039f"
             ],
             [
              0.2222222222222222,
              "#7201a8"
             ],
             [
              0.3333333333333333,
              "#9c179e"
             ],
             [
              0.4444444444444444,
              "#bd3786"
             ],
             [
              0.5555555555555556,
              "#d8576b"
             ],
             [
              0.6666666666666666,
              "#ed7953"
             ],
             [
              0.7777777777777778,
              "#fb9f3a"
             ],
             [
              0.8888888888888888,
              "#fdca26"
             ],
             [
              1,
              "#f0f921"
             ]
            ],
            "type": "surface"
           }
          ],
          "table": [
           {
            "cells": {
             "fill": {
              "color": "#EBF0F8"
             },
             "line": {
              "color": "white"
             }
            },
            "header": {
             "fill": {
              "color": "#C8D4E3"
             },
             "line": {
              "color": "white"
             }
            },
            "type": "table"
           }
          ]
         },
         "layout": {
          "annotationdefaults": {
           "arrowcolor": "#2a3f5f",
           "arrowhead": 0,
           "arrowwidth": 1
          },
          "autotypenumbers": "strict",
          "coloraxis": {
           "colorbar": {
            "outlinewidth": 0,
            "ticks": ""
           }
          },
          "colorscale": {
           "diverging": [
            [
             0,
             "#8e0152"
            ],
            [
             0.1,
             "#c51b7d"
            ],
            [
             0.2,
             "#de77ae"
            ],
            [
             0.3,
             "#f1b6da"
            ],
            [
             0.4,
             "#fde0ef"
            ],
            [
             0.5,
             "#f7f7f7"
            ],
            [
             0.6,
             "#e6f5d0"
            ],
            [
             0.7,
             "#b8e186"
            ],
            [
             0.8,
             "#7fbc41"
            ],
            [
             0.9,
             "#4d9221"
            ],
            [
             1,
             "#276419"
            ]
           ],
           "sequential": [
            [
             0,
             "#0d0887"
            ],
            [
             0.1111111111111111,
             "#46039f"
            ],
            [
             0.2222222222222222,
             "#7201a8"
            ],
            [
             0.3333333333333333,
             "#9c179e"
            ],
            [
             0.4444444444444444,
             "#bd3786"
            ],
            [
             0.5555555555555556,
             "#d8576b"
            ],
            [
             0.6666666666666666,
             "#ed7953"
            ],
            [
             0.7777777777777778,
             "#fb9f3a"
            ],
            [
             0.8888888888888888,
             "#fdca26"
            ],
            [
             1,
             "#f0f921"
            ]
           ],
           "sequentialminus": [
            [
             0,
             "#0d0887"
            ],
            [
             0.1111111111111111,
             "#46039f"
            ],
            [
             0.2222222222222222,
             "#7201a8"
            ],
            [
             0.3333333333333333,
             "#9c179e"
            ],
            [
             0.4444444444444444,
             "#bd3786"
            ],
            [
             0.5555555555555556,
             "#d8576b"
            ],
            [
             0.6666666666666666,
             "#ed7953"
            ],
            [
             0.7777777777777778,
             "#fb9f3a"
            ],
            [
             0.8888888888888888,
             "#fdca26"
            ],
            [
             1,
             "#f0f921"
            ]
           ]
          },
          "colorway": [
           "#636efa",
           "#EF553B",
           "#00cc96",
           "#ab63fa",
           "#FFA15A",
           "#19d3f3",
           "#FF6692",
           "#B6E880",
           "#FF97FF",
           "#FECB52"
          ],
          "font": {
           "color": "#2a3f5f"
          },
          "geo": {
           "bgcolor": "white",
           "lakecolor": "white",
           "landcolor": "#E5ECF6",
           "showlakes": true,
           "showland": true,
           "subunitcolor": "white"
          },
          "hoverlabel": {
           "align": "left"
          },
          "hovermode": "closest",
          "mapbox": {
           "style": "light"
          },
          "paper_bgcolor": "white",
          "plot_bgcolor": "#E5ECF6",
          "polar": {
           "angularaxis": {
            "gridcolor": "white",
            "linecolor": "white",
            "ticks": ""
           },
           "bgcolor": "#E5ECF6",
           "radialaxis": {
            "gridcolor": "white",
            "linecolor": "white",
            "ticks": ""
           }
          },
          "scene": {
           "xaxis": {
            "backgroundcolor": "#E5ECF6",
            "gridcolor": "white",
            "gridwidth": 2,
            "linecolor": "white",
            "showbackground": true,
            "ticks": "",
            "zerolinecolor": "white"
           },
           "yaxis": {
            "backgroundcolor": "#E5ECF6",
            "gridcolor": "white",
            "gridwidth": 2,
            "linecolor": "white",
            "showbackground": true,
            "ticks": "",
            "zerolinecolor": "white"
           },
           "zaxis": {
            "backgroundcolor": "#E5ECF6",
            "gridcolor": "white",
            "gridwidth": 2,
            "linecolor": "white",
            "showbackground": true,
            "ticks": "",
            "zerolinecolor": "white"
           }
          },
          "shapedefaults": {
           "line": {
            "color": "#2a3f5f"
           }
          },
          "ternary": {
           "aaxis": {
            "gridcolor": "white",
            "linecolor": "white",
            "ticks": ""
           },
           "baxis": {
            "gridcolor": "white",
            "linecolor": "white",
            "ticks": ""
           },
           "bgcolor": "#E5ECF6",
           "caxis": {
            "gridcolor": "white",
            "linecolor": "white",
            "ticks": ""
           }
          },
          "title": {
           "x": 0.05
          },
          "xaxis": {
           "automargin": true,
           "gridcolor": "white",
           "linecolor": "white",
           "ticks": "",
           "title": {
            "standoff": 15
           },
           "zerolinecolor": "white",
           "zerolinewidth": 2
          },
          "yaxis": {
           "automargin": true,
           "gridcolor": "white",
           "linecolor": "white",
           "ticks": "",
           "title": {
            "standoff": 15
           },
           "zerolinecolor": "white",
           "zerolinewidth": 2
          }
         }
        },
        "title": {
         "text": "Train Data Distribution ",
         "x": 0.5,
         "xanchor": "center",
         "y": 0.95,
         "yanchor": "top"
        },
        "xaxis": {
         "anchor": "y",
         "domain": [
          0,
          1
         ],
         "title": {
          "text": "Expressions"
         }
        },
        "yaxis": {
         "anchor": "x",
         "domain": [
          0,
          1
         ],
         "title": {
          "text": "Number of Images"
         }
        }
       }
      }
     },
     "metadata": {},
     "output_type": "display_data"
    }
   ],
   "source": [
    "fig = px.bar(x = LABELLED_EMOJIS,\n",
    "             y = [list(generatorfunc_train.classes).count(i) for i in np.unique(generatorfunc_train.classes)] , \n",
    "             color = np.unique(generatorfunc_train.classes) ,\n",
    "             color_continuous_scale=\"Emrld\") \n",
    "fig.update_xaxes(title=\"Expressions\")\n",
    "fig.update_yaxes(title = \"Number of Images\")\n",
    "fig.update_layout(showlegend = True,\n",
    "    title = {\n",
    "        'text': 'Train Data Distribution ',\n",
    "        'y':0.95,\n",
    "        'x':0.5,\n",
    "        'xanchor': 'center',\n",
    "        'yanchor': 'top'})\n",
    "fig.show()"
   ]
  },
  {
   "cell_type": "markdown",
   "id": "1beac652",
   "metadata": {
    "papermill": {
     "duration": 0.029119,
     "end_time": "2023-12-27T04:16:55.920455",
     "exception": false,
     "start_time": "2023-12-27T04:16:55.891336",
     "status": "completed"
    },
    "tags": []
   },
   "source": [
    "<a id=\"model\"></a>\n",
    "#### DenseNet169 TRANSFER LEARNING"
   ]
  },
  {
   "cell_type": "code",
   "execution_count": 7,
   "id": "a35fcbdf",
   "metadata": {
    "execution": {
     "iopub.execute_input": "2023-12-27T04:16:55.992319Z",
     "iopub.status.busy": "2023-12-27T04:16:55.991725Z",
     "iopub.status.idle": "2023-12-27T04:16:55.994482Z",
     "shell.execute_reply": "2023-12-27T04:16:55.993887Z",
     "shell.execute_reply.started": "2023-12-27T03:58:43.135667Z"
    },
    "papermill": {
     "duration": 0.045258,
     "end_time": "2023-12-27T04:16:55.994598",
     "exception": false,
     "start_time": "2023-12-27T04:16:55.949340",
     "status": "completed"
    },
    "tags": []
   },
   "outputs": [],
   "source": [
    "def extraction_feature_func(inputs):\n",
    "    extraction_feature_func = tf.keras.applications.ResNet50(input_shape=(HEIGHT_OF_IMG, WIDTH_OF_IMG, 3),\n",
    "                                              include_top=False,\n",
    "                                              weights=\"imagenet\")(inputs)\n",
    "    \n",
    "    return extraction_feature_func\n",
    "\n",
    "\n",
    "def neural_network_classifier(inputs):\n",
    "    x = tf.keras.layers.Dense(512, activation=\"relu\", kernel_regularizer=tf.keras.regularizers.l2(0.01))(x)\n",
    "    x = tf.keras.layers.Dropout(0.1)(x)\n",
    "\n",
    "    # Additional ReLU layer\n",
    "    x = tf.keras.layers.Dense(1024, activation=\"relu\", kernel_regularizer=tf.keras.regularizers.l2(0.01))(x)\n",
    "\n",
    "    # Additional ReLU layer\n",
    "    x = tf.keras.layers.Dropout(0.1)(x)\n",
    "\n",
    "    # Additional ReLU layer\n",
    "    x = tf.keras.layers.Dense(256, activation=\"relu\", kernel_regularizer=tf.keras.regularizers.l2(0.01))(x)\n",
    "\n",
    "\n",
    "    return x\n",
    "\n",
    "\n",
    "def models(data):\n",
    "    densenet_extraction_feature_func = extraction_feature_func(data)\n",
    "    nn_classifier_output = neural_network_classifier(densenet_extraction_feature_func)\n",
    "    \n",
    "    return nn_classifier_output\n",
    "\n",
    "def compile_model_summary():\n",
    "    \n",
    "    data = tf.keras.layers.Input(shape=(HEIGHT_OF_IMG ,WIDTH_OF_IMG,3))\n",
    "    nn_classifier_output = models(data) \n",
    "    model = tf.keras.Model(inputs=data, outputs = nn_classifier_output)\n",
    "     \n",
    "    model.compile(optimizer=tf.keras.optimizers.SGD(0.01),\n",
    "            loss='categorical_crossentropy',\n",
    "            metrics=['accuracy'])\n",
    "\n",
    "  \n",
    "    return model"
   ]
  },
  {
   "cell_type": "markdown",
   "id": "c6280f3b",
   "metadata": {
    "papermill": {
     "duration": 0.028953,
     "end_time": "2023-12-27T04:16:56.053814",
     "exception": false,
     "start_time": "2023-12-27T04:16:56.024861",
     "status": "completed"
    },
    "tags": []
   },
   "source": [
    "Summary of Model"
   ]
  },
  {
   "cell_type": "code",
   "execution_count": 8,
   "id": "40fb894f",
   "metadata": {
    "_kg_hide-input": true,
    "execution": {
     "iopub.execute_input": "2023-12-27T04:16:56.116407Z",
     "iopub.status.busy": "2023-12-27T04:16:56.115831Z",
     "iopub.status.idle": "2023-12-27T04:17:03.921632Z",
     "shell.execute_reply": "2023-12-27T04:17:03.921068Z",
     "shell.execute_reply.started": "2023-12-27T03:58:43.444894Z"
    },
    "papermill": {
     "duration": 7.838504,
     "end_time": "2023-12-27T04:17:03.921779",
     "exception": false,
     "start_time": "2023-12-27T04:16:56.083275",
     "status": "completed"
    },
    "tags": []
   },
   "outputs": [
    {
     "name": "stdout",
     "output_type": "stream",
     "text": [
      "Model: \"model\"\n",
      "_________________________________________________________________\n",
      " Layer (type)                Output Shape              Param #   \n",
      "=================================================================\n",
      " input_1 (InputLayer)        [(None, 48, 48, 3)]       0         \n",
      "                                                                 \n",
      " resnet50 (Functional)       (None, 2, 2, 2048)        23587712  \n",
      "                                                                 \n",
      " global_average_pooling2d (  (None, 2048)              0         \n",
      " GlobalAveragePooling2D)                                         \n",
      "                                                                 \n",
      " dense (Dense)               (None, 512)               1049088   \n",
      "                                                                 \n",
      " dropout (Dropout)           (None, 512)               0         \n",
      "                                                                 \n",
      " dense_1 (Dense)             (None, 1024)              525312    \n",
      "                                                                 \n",
      " dense_2 (Dense)             (None, 2048)              2099200   \n",
      "                                                                 \n",
      " dropout_1 (Dropout)         (None, 2048)              0         \n",
      "                                                                 \n",
      " dense_3 (Dense)             (None, 512)               1049088   \n",
      "                                                                 \n",
      " dropout_2 (Dropout)         (None, 512)               0         \n",
      "                                                                 \n",
      " dense_4 (Dense)             (None, 256)               131328    \n",
      "                                                                 \n",
      " dropout_3 (Dropout)         (None, 256)               0         \n",
      "                                                                 \n",
      " classification (Dense)      (None, 7)                 1799      \n",
      "                                                                 \n",
      "=================================================================\n",
      "Total params: 28443527 (108.50 MB)\n",
      "Trainable params: 4855815 (18.52 MB)\n",
      "Non-trainable params: 23587712 (89.98 MB)\n",
      "_________________________________________________________________\n"
     ]
    }
   ],
   "source": [
    "model = compile_model_summary()\n",
    "clear_output()\n",
    "\n",
    "# Feezing the feature extraction layers\n",
    "model.layers[1].trainable = True\n",
    "\n",
    "model.summary()"
   ]
  },
  {
   "cell_type": "markdown",
   "id": "f3e9ef3b",
   "metadata": {
    "papermill": {
     "duration": 0.029781,
     "end_time": "2023-12-27T04:17:03.982133",
     "exception": false,
     "start_time": "2023-12-27T04:17:03.952352",
     "status": "completed"
    },
    "tags": []
   },
   "source": [
    "<a id=\"train\"></a>\n",
    "#### TRAINING AND FINE TUNING"
   ]
  },
  {
   "cell_type": "markdown",
   "id": "b201fae8",
   "metadata": {
    "papermill": {
     "duration": 0.029466,
     "end_time": "2023-12-27T04:17:04.041748",
     "exception": false,
     "start_time": "2023-12-27T04:17:04.012282",
     "status": "completed"
    },
    "tags": []
   },
   "source": [
    "Training model with freezed layers of DenseNer169"
   ]
  },
  {
   "cell_type": "code",
   "execution_count": null,
   "id": "4f4856fb",
   "metadata": {
    "_kg_hide-output": true,
    "execution": {
     "iopub.execute_input": "2023-12-27T04:17:04.130655Z",
     "iopub.status.busy": "2023-12-27T04:17:04.129963Z",
     "iopub.status.idle": "2023-12-27T04:26:12.789362Z",
     "shell.execute_reply": "2023-12-27T04:26:12.788785Z",
     "shell.execute_reply.started": "2023-12-27T03:58:45.329749Z"
    },
    "papermill": {
     "duration": 548.716651,
     "end_time": "2023-12-27T04:26:12.789551",
     "exception": false,
     "start_time": "2023-12-27T04:17:04.072900",
     "status": "completed"
    },
    "tags": []
   },
   "outputs": [],
   "source": [
    "HYPERTUNNING_EPOCHS = 10\n",
    "EPOCHS = 10\n",
    "\n",
    "earlyStoppingCallback = tf.keras.callbacks.EarlyStopping(monitor='val_loss', \n",
    "                                                         patience=EARLY_STOPPING_CRITERIA,\n",
    "                                                         verbose= 1 ,\n",
    "                                                         restore_best_weights=True\n",
    "                                                        )\n",
    "\n",
    "hist = model.fit(x = generatorfunc_train,\n",
    "                    epochs = EPOCHS ,\n",
    "                    validation_data = generatorfunc_valid , \n",
    "                    callbacks= [earlyStoppingCallback]\n",
    "                   )\n",
    "\n",
    "hist = pd.DataFrame(hist.hist)"
   ]
  },
  {
   "cell_type": "markdown",
   "id": "eb816f14",
   "metadata": {
    "papermill": {
     "duration": 1.194061,
     "end_time": "2023-12-27T04:26:15.220025",
     "exception": false,
     "start_time": "2023-12-27T04:26:14.025964",
     "status": "completed"
    },
    "tags": []
   },
   "source": [
    "Fine Tuning"
   ]
  },
  {
   "cell_type": "code",
   "execution_count": null,
   "id": "09b3543f",
   "metadata": {
    "_kg_hide-output": true,
    "execution": {
     "iopub.execute_input": "2023-12-27T04:26:17.626192Z",
     "iopub.status.busy": "2023-12-27T04:26:17.618495Z",
     "iopub.status.idle": "2023-12-27T04:33:29.883776Z",
     "shell.execute_reply": "2023-12-27T04:33:29.884307Z",
     "shell.execute_reply.started": "2023-12-27T04:07:16.606656Z"
    },
    "papermill": {
     "duration": 433.468227,
     "end_time": "2023-12-27T04:33:29.884504",
     "exception": false,
     "start_time": "2023-12-27T04:26:16.416277",
     "status": "completed"
    },
    "tags": []
   },
   "outputs": [
    {
     "name": "stdout",
     "output_type": "stream",
     "text": [
      "Epoch 1/10\n",
      "359/359 [==============================] - 520s 1s/step - loss: 0.9284 - accuracy: 0.7170 - val_loss: 1.1647 - val_accuracy: 0.6349\n",
      "Epoch 2/10\n",
      "359/359 [==============================] - 516s 1s/step - loss: 0.8946 - accuracy: 0.7278 - val_loss: 1.1653 - val_accuracy: 0.6372\n",
      "Epoch 3/10\n",
      "359/359 [==============================] - 517s 1s/step - loss: 0.8787 - accuracy: 0.7312 - val_loss: 1.1669 - val_accuracy: 0.6373\n",
      "Epoch 4/10\n",
      "359/359 [==============================] - 518s 1s/step - loss: 0.8615 - accuracy: 0.7381 - val_loss: 1.1673 - val_accuracy: 0.6382\n",
      "Epoch 5/10\n",
      "359/359 [==============================] - 514s 1s/step - loss: 0.8531 - accuracy: 0.7410 - val_loss: 1.1707 - val_accuracy: 0.6401\n",
      "Epoch 6/10\n",
      "359/359 [==============================] - 515s 1s/step - loss: 0.8556 - accuracy: 0.7405 - val_loss: 1.1684 - val_accuracy: 0.6426\n",
      "Epoch 7/10\n",
      "359/359 [==============================] - 517s 1s/step - loss: 0.8370 - accuracy: 0.7486 - val_loss: 1.1697 - val_accuracy: 0.6412\n",
      "Epoch 8/10\n",
      "359/359 [==============================] - 512s 1s/step - loss: 0.8369 - accuracy: 0.7476 - val_loss: 1.1683 - val_accuracy: 0.6415\n",
      "Epoch 9/10\n",
      "359/359 [==============================] - 516s 1s/step - loss: 0.8247 - accuracy: 0.7492 - val_loss: 1.1685 - val_accuracy: 0.6424\n",
      "Epoch 10/10\n",
      "359/359 [==============================] - 524s 1s/step - loss: 0.8180 - accuracy: 0.7514 - val_loss: 1.1686 - val_accuracy: 0.6429\n"
     ]
    }
   ],
   "source": [
    "# Un-Freezing the feature extraction layers for fine tuning \n",
    "model.layers[1].trainable = True\n",
    "\n",
    "model.compile(optimizer=tf.keras.optimizers.SGD(0.001),\n",
    "            loss='categorical_crossentropy',\n",
    "            metrics=['accuracy'])\n",
    "\n",
    "hist_ = model.fit(x = generatorfunc_train,epochs = HYPERTUNNING_EPOCHS ,validation_data = generatorfunc_valid)\n",
    "hist = hist.append(pd.DataFrame(hist_.hist) , ignore_index=True)\n"
   ]
  },
  {
   "cell_type": "markdown",
   "id": "cc6a77c6",
   "metadata": {
    "papermill": {
     "duration": 2.408494,
     "end_time": "2023-12-27T04:33:34.722365",
     "exception": false,
     "start_time": "2023-12-27T04:33:32.313871",
     "status": "completed"
    },
    "tags": []
   },
   "source": [
    "Training plots"
   ]
  },
  {
   "cell_type": "code",
   "execution_count": null,
   "id": "872e9f53",
   "metadata": {
    "_kg_hide-input": true,
    "execution": {
     "iopub.execute_input": "2023-12-27T04:33:39.486238Z",
     "iopub.status.busy": "2023-12-27T04:33:39.485489Z",
     "iopub.status.idle": "2023-12-27T04:33:39.583481Z",
     "shell.execute_reply": "2023-12-27T04:33:39.583944Z",
     "shell.execute_reply.started": "2023-12-27T04:15:05.032747Z"
    },
    "papermill": {
     "duration": 2.4636,
     "end_time": "2023-12-27T04:33:39.584105",
     "exception": false,
     "start_time": "2023-12-27T04:33:37.120505",
     "status": "completed"
    },
    "tags": []
   },
   "outputs": [
    {
     "data": {
      "application/vnd.plotly.v1+json": {
       "config": {
        "plotlyServerURL": "https://plot.ly"
       },
       "data": [
        {
         "hovertemplate": "variable=accuracy<br>index=%{x}<br>value=%{y}<extra></extra>",
         "legendgroup": "accuracy",
         "line": {
          "color": "#636efa",
          "dash": "solid"
         },
         "marker": {
          "symbol": "circle"
         },
         "mode": "lines+markers",
         "name": "accuracy",
         "orientation": "v",
         "showlegend": true,
         "type": "scatter",
         "x": [
          0,
          1,
          2,
          3,
          4,
          5,
          6,
          7,
          8,
          9,
          10,
          11,
          12,
          13,
          14,
          15,
          16,
          17,
          18,
          19
         ],
         "xaxis": "x",
         "y": [
          0.39446187019348145,
          0.5184604525566101,
          0.5601706504821777,
          0.5867293477058411,
          0.6061912178993225,
          0.621081531047821,
          0.6383228898048401,
          0.6516022086143494,
          0.6662312746047974,
          0.6801636815071106,
          0.7169975638389587,
          0.7277516722679138,
          0.7312347888946533,
          0.7380703687667847,
          0.7410309910774231,
          0.740464985370636,
          0.7485632300376892,
          0.7476488947868347,
          0.7491727471351624,
          0.7513932585716248
         ],
         "yaxis": "y"
        },
        {
         "hovertemplate": "variable=val_accuracy<br>index=%{x}<br>value=%{y}<extra></extra>",
         "legendgroup": "val_accuracy",
         "line": {
          "color": "#EF553B",
          "dash": "solid"
         },
         "marker": {
          "symbol": "circle"
         },
         "mode": "lines+markers",
         "name": "val_accuracy",
         "orientation": "v",
         "showlegend": true,
         "type": "scatter",
         "x": [
          0,
          1,
          2,
          3,
          4,
          5,
          6,
          7,
          8,
          9,
          10,
          11,
          12,
          13,
          14,
          15,
          16,
          17,
          18,
          19
         ],
         "xaxis": "x",
         "y": [
          0.16826337575912476,
          0.16826337575912476,
          0.16826337575912476,
          0.2924577593803406,
          0.5218603014945984,
          0.5920571088790894,
          0.5873541235923767,
          0.5716773867607117,
          0.5737676620483398,
          0.6086047887802124,
          0.6349068284034729,
          0.63717120885849,
          0.6373454332351685,
          0.6382163166999817,
          0.6401323676109314,
          0.642570972442627,
          0.6411774754524231,
          0.6415258646011353,
          0.6423968076705933,
          0.6429193615913391
         ],
         "yaxis": "y"
        }
       ],
       "layout": {
        "legend": {
         "title": {
          "text": "variable"
         },
         "tracegroupgap": 0
        },
        "margin": {
         "t": 60
        },
        "showlegend": true,
        "template": {
         "data": {
          "bar": [
           {
            "error_x": {
             "color": "#2a3f5f"
            },
            "error_y": {
             "color": "#2a3f5f"
            },
            "marker": {
             "line": {
              "color": "#E5ECF6",
              "width": 0.5
             },
             "pattern": {
              "fillmode": "overlay",
              "size": 10,
              "solidity": 0.2
             }
            },
            "type": "bar"
           }
          ],
          "barpolar": [
           {
            "marker": {
             "line": {
              "color": "#E5ECF6",
              "width": 0.5
             },
             "pattern": {
              "fillmode": "overlay",
              "size": 10,
              "solidity": 0.2
             }
            },
            "type": "barpolar"
           }
          ],
          "carpet": [
           {
            "aaxis": {
             "endlinecolor": "#2a3f5f",
             "gridcolor": "white",
             "linecolor": "white",
             "minorgridcolor": "white",
             "startlinecolor": "#2a3f5f"
            },
            "baxis": {
             "endlinecolor": "#2a3f5f",
             "gridcolor": "white",
             "linecolor": "white",
             "minorgridcolor": "white",
             "startlinecolor": "#2a3f5f"
            },
            "type": "carpet"
           }
          ],
          "choropleth": [
           {
            "colorbar": {
             "outlinewidth": 0,
             "ticks": ""
            },
            "type": "choropleth"
           }
          ],
          "contour": [
           {
            "colorbar": {
             "outlinewidth": 0,
             "ticks": ""
            },
            "colorscale": [
             [
              0,
              "#0d0887"
             ],
             [
              0.1111111111111111,
              "#46039f"
             ],
             [
              0.2222222222222222,
              "#7201a8"
             ],
             [
              0.3333333333333333,
              "#9c179e"
             ],
             [
              0.4444444444444444,
              "#bd3786"
             ],
             [
              0.5555555555555556,
              "#d8576b"
             ],
             [
              0.6666666666666666,
              "#ed7953"
             ],
             [
              0.7777777777777778,
              "#fb9f3a"
             ],
             [
              0.8888888888888888,
              "#fdca26"
             ],
             [
              1,
              "#f0f921"
             ]
            ],
            "type": "contour"
           }
          ],
          "contourcarpet": [
           {
            "colorbar": {
             "outlinewidth": 0,
             "ticks": ""
            },
            "type": "contourcarpet"
           }
          ],
          "heatmap": [
           {
            "colorbar": {
             "outlinewidth": 0,
             "ticks": ""
            },
            "colorscale": [
             [
              0,
              "#0d0887"
             ],
             [
              0.1111111111111111,
              "#46039f"
             ],
             [
              0.2222222222222222,
              "#7201a8"
             ],
             [
              0.3333333333333333,
              "#9c179e"
             ],
             [
              0.4444444444444444,
              "#bd3786"
             ],
             [
              0.5555555555555556,
              "#d8576b"
             ],
             [
              0.6666666666666666,
              "#ed7953"
             ],
             [
              0.7777777777777778,
              "#fb9f3a"
             ],
             [
              0.8888888888888888,
              "#fdca26"
             ],
             [
              1,
              "#f0f921"
             ]
            ],
            "type": "heatmap"
           }
          ],
          "heatmapgl": [
           {
            "colorbar": {
             "outlinewidth": 0,
             "ticks": ""
            },
            "colorscale": [
             [
              0,
              "#0d0887"
             ],
             [
              0.1111111111111111,
              "#46039f"
             ],
             [
              0.2222222222222222,
              "#7201a8"
             ],
             [
              0.3333333333333333,
              "#9c179e"
             ],
             [
              0.4444444444444444,
              "#bd3786"
             ],
             [
              0.5555555555555556,
              "#d8576b"
             ],
             [
              0.6666666666666666,
              "#ed7953"
             ],
             [
              0.7777777777777778,
              "#fb9f3a"
             ],
             [
              0.8888888888888888,
              "#fdca26"
             ],
             [
              1,
              "#f0f921"
             ]
            ],
            "type": "heatmapgl"
           }
          ],
          "histogram": [
           {
            "marker": {
             "pattern": {
              "fillmode": "overlay",
              "size": 10,
              "solidity": 0.2
             }
            },
            "type": "histogram"
           }
          ],
          "histogram2d": [
           {
            "colorbar": {
             "outlinewidth": 0,
             "ticks": ""
            },
            "colorscale": [
             [
              0,
              "#0d0887"
             ],
             [
              0.1111111111111111,
              "#46039f"
             ],
             [
              0.2222222222222222,
              "#7201a8"
             ],
             [
              0.3333333333333333,
              "#9c179e"
             ],
             [
              0.4444444444444444,
              "#bd3786"
             ],
             [
              0.5555555555555556,
              "#d8576b"
             ],
             [
              0.6666666666666666,
              "#ed7953"
             ],
             [
              0.7777777777777778,
              "#fb9f3a"
             ],
             [
              0.8888888888888888,
              "#fdca26"
             ],
             [
              1,
              "#f0f921"
             ]
            ],
            "type": "histogram2d"
           }
          ],
          "histogram2dcontour": [
           {
            "colorbar": {
             "outlinewidth": 0,
             "ticks": ""
            },
            "colorscale": [
             [
              0,
              "#0d0887"
             ],
             [
              0.1111111111111111,
              "#46039f"
             ],
             [
              0.2222222222222222,
              "#7201a8"
             ],
             [
              0.3333333333333333,
              "#9c179e"
             ],
             [
              0.4444444444444444,
              "#bd3786"
             ],
             [
              0.5555555555555556,
              "#d8576b"
             ],
             [
              0.6666666666666666,
              "#ed7953"
             ],
             [
              0.7777777777777778,
              "#fb9f3a"
             ],
             [
              0.8888888888888888,
              "#fdca26"
             ],
             [
              1,
              "#f0f921"
             ]
            ],
            "type": "histogram2dcontour"
           }
          ],
          "mesh3d": [
           {
            "colorbar": {
             "outlinewidth": 0,
             "ticks": ""
            },
            "type": "mesh3d"
           }
          ],
          "parcoords": [
           {
            "line": {
             "colorbar": {
              "outlinewidth": 0,
              "ticks": ""
             }
            },
            "type": "parcoords"
           }
          ],
          "pie": [
           {
            "automargin": true,
            "type": "pie"
           }
          ],
          "scatter": [
           {
            "fillpattern": {
             "fillmode": "overlay",
             "size": 10,
             "solidity": 0.2
            },
            "type": "scatter"
           }
          ],
          "scatter3d": [
           {
            "line": {
             "colorbar": {
              "outlinewidth": 0,
              "ticks": ""
             }
            },
            "marker": {
             "colorbar": {
              "outlinewidth": 0,
              "ticks": ""
             }
            },
            "type": "scatter3d"
           }
          ],
          "scattercarpet": [
           {
            "marker": {
             "colorbar": {
              "outlinewidth": 0,
              "ticks": ""
             }
            },
            "type": "scattercarpet"
           }
          ],
          "scattergeo": [
           {
            "marker": {
             "colorbar": {
              "outlinewidth": 0,
              "ticks": ""
             }
            },
            "type": "scattergeo"
           }
          ],
          "scattergl": [
           {
            "marker": {
             "colorbar": {
              "outlinewidth": 0,
              "ticks": ""
             }
            },
            "type": "scattergl"
           }
          ],
          "scattermapbox": [
           {
            "marker": {
             "colorbar": {
              "outlinewidth": 0,
              "ticks": ""
             }
            },
            "type": "scattermapbox"
           }
          ],
          "scatterpolar": [
           {
            "marker": {
             "colorbar": {
              "outlinewidth": 0,
              "ticks": ""
             }
            },
            "type": "scatterpolar"
           }
          ],
          "scatterpolargl": [
           {
            "marker": {
             "colorbar": {
              "outlinewidth": 0,
              "ticks": ""
             }
            },
            "type": "scatterpolargl"
           }
          ],
          "scatterternary": [
           {
            "marker": {
             "colorbar": {
              "outlinewidth": 0,
              "ticks": ""
             }
            },
            "type": "scatterternary"
           }
          ],
          "surface": [
           {
            "colorbar": {
             "outlinewidth": 0,
             "ticks": ""
            },
            "colorscale": [
             [
              0,
              "#0d0887"
             ],
             [
              0.1111111111111111,
              "#46039f"
             ],
             [
              0.2222222222222222,
              "#7201a8"
             ],
             [
              0.3333333333333333,
              "#9c179e"
             ],
             [
              0.4444444444444444,
              "#bd3786"
             ],
             [
              0.5555555555555556,
              "#d8576b"
             ],
             [
              0.6666666666666666,
              "#ed7953"
             ],
             [
              0.7777777777777778,
              "#fb9f3a"
             ],
             [
              0.8888888888888888,
              "#fdca26"
             ],
             [
              1,
              "#f0f921"
             ]
            ],
            "type": "surface"
           }
          ],
          "table": [
           {
            "cells": {
             "fill": {
              "color": "#EBF0F8"
             },
             "line": {
              "color": "white"
             }
            },
            "header": {
             "fill": {
              "color": "#C8D4E3"
             },
             "line": {
              "color": "white"
             }
            },
            "type": "table"
           }
          ]
         },
         "layout": {
          "annotationdefaults": {
           "arrowcolor": "#2a3f5f",
           "arrowhead": 0,
           "arrowwidth": 1
          },
          "autotypenumbers": "strict",
          "coloraxis": {
           "colorbar": {
            "outlinewidth": 0,
            "ticks": ""
           }
          },
          "colorscale": {
           "diverging": [
            [
             0,
             "#8e0152"
            ],
            [
             0.1,
             "#c51b7d"
            ],
            [
             0.2,
             "#de77ae"
            ],
            [
             0.3,
             "#f1b6da"
            ],
            [
             0.4,
             "#fde0ef"
            ],
            [
             0.5,
             "#f7f7f7"
            ],
            [
             0.6,
             "#e6f5d0"
            ],
            [
             0.7,
             "#b8e186"
            ],
            [
             0.8,
             "#7fbc41"
            ],
            [
             0.9,
             "#4d9221"
            ],
            [
             1,
             "#276419"
            ]
           ],
           "sequential": [
            [
             0,
             "#0d0887"
            ],
            [
             0.1111111111111111,
             "#46039f"
            ],
            [
             0.2222222222222222,
             "#7201a8"
            ],
            [
             0.3333333333333333,
             "#9c179e"
            ],
            [
             0.4444444444444444,
             "#bd3786"
            ],
            [
             0.5555555555555556,
             "#d8576b"
            ],
            [
             0.6666666666666666,
             "#ed7953"
            ],
            [
             0.7777777777777778,
             "#fb9f3a"
            ],
            [
             0.8888888888888888,
             "#fdca26"
            ],
            [
             1,
             "#f0f921"
            ]
           ],
           "sequentialminus": [
            [
             0,
             "#0d0887"
            ],
            [
             0.1111111111111111,
             "#46039f"
            ],
            [
             0.2222222222222222,
             "#7201a8"
            ],
            [
             0.3333333333333333,
             "#9c179e"
            ],
            [
             0.4444444444444444,
             "#bd3786"
            ],
            [
             0.5555555555555556,
             "#d8576b"
            ],
            [
             0.6666666666666666,
             "#ed7953"
            ],
            [
             0.7777777777777778,
             "#fb9f3a"
            ],
            [
             0.8888888888888888,
             "#fdca26"
            ],
            [
             1,
             "#f0f921"
            ]
           ]
          },
          "colorway": [
           "#636efa",
           "#EF553B",
           "#00cc96",
           "#ab63fa",
           "#FFA15A",
           "#19d3f3",
           "#FF6692",
           "#B6E880",
           "#FF97FF",
           "#FECB52"
          ],
          "font": {
           "color": "#2a3f5f"
          },
          "geo": {
           "bgcolor": "white",
           "lakecolor": "white",
           "landcolor": "#E5ECF6",
           "showlakes": true,
           "showland": true,
           "subunitcolor": "white"
          },
          "hoverlabel": {
           "align": "left"
          },
          "hovermode": "closest",
          "mapbox": {
           "style": "light"
          },
          "paper_bgcolor": "white",
          "plot_bgcolor": "#E5ECF6",
          "polar": {
           "angularaxis": {
            "gridcolor": "white",
            "linecolor": "white",
            "ticks": ""
           },
           "bgcolor": "#E5ECF6",
           "radialaxis": {
            "gridcolor": "white",
            "linecolor": "white",
            "ticks": ""
           }
          },
          "scene": {
           "xaxis": {
            "backgroundcolor": "#E5ECF6",
            "gridcolor": "white",
            "gridwidth": 2,
            "linecolor": "white",
            "showbackground": true,
            "ticks": "",
            "zerolinecolor": "white"
           },
           "yaxis": {
            "backgroundcolor": "#E5ECF6",
            "gridcolor": "white",
            "gridwidth": 2,
            "linecolor": "white",
            "showbackground": true,
            "ticks": "",
            "zerolinecolor": "white"
           },
           "zaxis": {
            "backgroundcolor": "#E5ECF6",
            "gridcolor": "white",
            "gridwidth": 2,
            "linecolor": "white",
            "showbackground": true,
            "ticks": "",
            "zerolinecolor": "white"
           }
          },
          "shapedefaults": {
           "line": {
            "color": "#2a3f5f"
           }
          },
          "ternary": {
           "aaxis": {
            "gridcolor": "white",
            "linecolor": "white",
            "ticks": ""
           },
           "baxis": {
            "gridcolor": "white",
            "linecolor": "white",
            "ticks": ""
           },
           "bgcolor": "#E5ECF6",
           "caxis": {
            "gridcolor": "white",
            "linecolor": "white",
            "ticks": ""
           }
          },
          "title": {
           "x": 0.05
          },
          "xaxis": {
           "automargin": true,
           "gridcolor": "white",
           "linecolor": "white",
           "ticks": "",
           "title": {
            "standoff": 15
           },
           "zerolinecolor": "white",
           "zerolinewidth": 2
          },
          "yaxis": {
           "automargin": true,
           "gridcolor": "white",
           "linecolor": "white",
           "ticks": "",
           "title": {
            "standoff": 15
           },
           "zerolinecolor": "white",
           "zerolinewidth": 2
          }
         }
        },
        "title": {
         "text": "Accuracy vs Number of Epochs",
         "x": 0.5,
         "xanchor": "center",
         "y": 0.94,
         "yanchor": "top"
        },
        "xaxis": {
         "anchor": "y",
         "domain": [
          0,
          1
         ],
         "title": {
          "text": "Number of Epochs"
         }
        },
        "yaxis": {
         "anchor": "x",
         "domain": [
          0,
          1
         ],
         "title": {
          "text": "Accuracy"
         }
        }
       }
      }
     },
     "metadata": {},
     "output_type": "display_data"
    }
   ],
   "source": [
    "x = px.line(data_frame= hist , y= [\"accuracy\" , \"accuracy\"] ,markers = True )\n",
    "x.update_xaxes(title=\"\")\n",
    "x.update_yaxes(title = \"\")\n",
    "x.update_layout(showlegend = True,\n",
    "    title = {\n",
    "        'text': '',\n",
    "        'y':0.94,\n",
    "        'x':0.5,\n",
    "        'xanchor': '',\n",
    "        'yanchor': ''})\n",
    "x.show()"
   ]
  },
  {
   "cell_type": "code",
   "execution_count": null,
   "id": "5079ef9f",
   "metadata": {
    "_kg_hide-input": true,
    "execution": {
     "iopub.execute_input": "2023-12-27T04:33:44.426264Z",
     "iopub.status.busy": "2023-12-27T04:33:44.425600Z",
     "iopub.status.idle": "2023-12-27T04:33:44.449452Z",
     "shell.execute_reply": "2023-12-27T04:33:44.449947Z",
     "shell.execute_reply.started": "2023-12-27T04:15:05.134786Z"
    },
    "papermill": {
     "duration": 2.498301,
     "end_time": "2023-12-27T04:33:44.450115",
     "exception": false,
     "start_time": "2023-12-27T04:33:41.951814",
     "status": "completed"
    },
    "tags": []
   },
   "outputs": [
    {
     "data": {
      "application/vnd.plotly.v1+json": {
       "config": {
        "plotlyServerURL": "https://plot.ly"
       },
       "data": [
        {
         "hovertemplate": "variable=loss<br>index=%{x}<br>value=%{y}<extra></extra>",
         "legendgroup": "loss",
         "line": {
          "color": "#636efa",
          "dash": "solid"
         },
         "marker": {
          "symbol": "circle"
         },
         "mode": "lines+markers",
         "name": "loss",
         "orientation": "v",
         "showlegend": true,
         "type": "scatter",
         "x": [
          0,
          1,
          2,
          3,
          4,
          5,
          6,
          7,
          8,
          9,
          10,
          11,
          12,
          13,
          14,
          15,
          16,
          17,
          18,
          19
         ],
         "xaxis": "x",
         "y": [
          30.32552146911621,
          15.354043960571289,
          8.092973709106445,
          4.53605842590332,
          2.795290231704712,
          1.9175342321395874,
          1.4783681631088257,
          1.2471425533294678,
          1.1189311742782593,
          1.0372462272644043,
          0.9284342527389526,
          0.8945978283882141,
          0.8786688446998596,
          0.8615066409111023,
          0.853062629699707,
          0.855571985244751,
          0.8370011448860168,
          0.8369234800338745,
          0.8247151374816895,
          0.818003237247467
         ],
         "yaxis": "y"
        },
        {
         "hovertemplate": "variable=val_loss<br>index=%{x}<br>value=%{y}<extra></extra>",
         "legendgroup": "val_loss",
         "line": {
          "color": "#EF553B",
          "dash": "solid"
         },
         "marker": {
          "symbol": "circle"
         },
         "mode": "lines+markers",
         "name": "val_loss",
         "orientation": "v",
         "showlegend": true,
         "type": "scatter",
         "x": [
          0,
          1,
          2,
          3,
          4,
          5,
          6,
          7,
          8,
          9,
          10,
          11,
          12,
          13,
          14,
          15,
          16,
          17,
          18,
          19
         ],
         "xaxis": "x",
         "y": [
          21.801849365234375,
          11.541545867919922,
          6.864893913269043,
          4.152127265930176,
          2.5119404792785645,
          1.7556021213531494,
          1.4636224508285522,
          1.3772121667861938,
          1.3781347274780273,
          1.2529350519180298,
          1.1647065877914429,
          1.1653014421463013,
          1.1668745279312134,
          1.1673405170440674,
          1.1706809997558594,
          1.1684354543685913,
          1.1697195768356323,
          1.1683082580566406,
          1.1685200929641724,
          1.1685515642166138
         ],
         "yaxis": "y"
        }
       ],
       "layout": {
        "legend": {
         "title": {
          "text": "variable"
         },
         "tracegroupgap": 0
        },
        "margin": {
         "t": 60
        },
        "showlegend": true,
        "template": {
         "data": {
          "bar": [
           {
            "error_x": {
             "color": "#2a3f5f"
            },
            "error_y": {
             "color": "#2a3f5f"
            },
            "marker": {
             "line": {
              "color": "#E5ECF6",
              "width": 0.5
             },
             "pattern": {
              "fillmode": "overlay",
              "size": 10,
              "solidity": 0.2
             }
            },
            "type": "bar"
           }
          ],
          "barpolar": [
           {
            "marker": {
             "line": {
              "color": "#E5ECF6",
              "width": 0.5
             },
             "pattern": {
              "fillmode": "overlay",
              "size": 10,
              "solidity": 0.2
             }
            },
            "type": "barpolar"
           }
          ],
          "carpet": [
           {
            "aaxis": {
             "endlinecolor": "#2a3f5f",
             "gridcolor": "white",
             "linecolor": "white",
             "minorgridcolor": "white",
             "startlinecolor": "#2a3f5f"
            },
            "baxis": {
             "endlinecolor": "#2a3f5f",
             "gridcolor": "white",
             "linecolor": "white",
             "minorgridcolor": "white",
             "startlinecolor": "#2a3f5f"
            },
            "type": "carpet"
           }
          ],
          "choropleth": [
           {
            "colorbar": {
             "outlinewidth": 0,
             "ticks": ""
            },
            "type": "choropleth"
           }
          ],
          "contour": [
           {
            "colorbar": {
             "outlinewidth": 0,
             "ticks": ""
            },
            "colorscale": [
             [
              0,
              "#0d0887"
             ],
             [
              0.1111111111111111,
              "#46039f"
             ],
             [
              0.2222222222222222,
              "#7201a8"
             ],
             [
              0.3333333333333333,
              "#9c179e"
             ],
             [
              0.4444444444444444,
              "#bd3786"
             ],
             [
              0.5555555555555556,
              "#d8576b"
             ],
             [
              0.6666666666666666,
              "#ed7953"
             ],
             [
              0.7777777777777778,
              "#fb9f3a"
             ],
             [
              0.8888888888888888,
              "#fdca26"
             ],
             [
              1,
              "#f0f921"
             ]
            ],
            "type": "contour"
           }
          ],
          "contourcarpet": [
           {
            "colorbar": {
             "outlinewidth": 0,
             "ticks": ""
            },
            "type": "contourcarpet"
           }
          ],
          "heatmap": [
           {
            "colorbar": {
             "outlinewidth": 0,
             "ticks": ""
            },
            "colorscale": [
             [
              0,
              "#0d0887"
             ],
             [
              0.1111111111111111,
              "#46039f"
             ],
             [
              0.2222222222222222,
              "#7201a8"
             ],
             [
              0.3333333333333333,
              "#9c179e"
             ],
             [
              0.4444444444444444,
              "#bd3786"
             ],
             [
              0.5555555555555556,
              "#d8576b"
             ],
             [
              0.6666666666666666,
              "#ed7953"
             ],
             [
              0.7777777777777778,
              "#fb9f3a"
             ],
             [
              0.8888888888888888,
              "#fdca26"
             ],
             [
              1,
              "#f0f921"
             ]
            ],
            "type": "heatmap"
           }
          ],
          "heatmapgl": [
           {
            "colorbar": {
             "outlinewidth": 0,
             "ticks": ""
            },
            "colorscale": [
             [
              0,
              "#0d0887"
             ],
             [
              0.1111111111111111,
              "#46039f"
             ],
             [
              0.2222222222222222,
              "#7201a8"
             ],
             [
              0.3333333333333333,
              "#9c179e"
             ],
             [
              0.4444444444444444,
              "#bd3786"
             ],
             [
              0.5555555555555556,
              "#d8576b"
             ],
             [
              0.6666666666666666,
              "#ed7953"
             ],
             [
              0.7777777777777778,
              "#fb9f3a"
             ],
             [
              0.8888888888888888,
              "#fdca26"
             ],
             [
              1,
              "#f0f921"
             ]
            ],
            "type": "heatmapgl"
           }
          ],
          "histogram": [
           {
            "marker": {
             "pattern": {
              "fillmode": "overlay",
              "size": 10,
              "solidity": 0.2
             }
            },
            "type": "histogram"
           }
          ],
          "histogram2d": [
           {
            "colorbar": {
             "outlinewidth": 0,
             "ticks": ""
            },
            "colorscale": [
             [
              0,
              "#0d0887"
             ],
             [
              0.1111111111111111,
              "#46039f"
             ],
             [
              0.2222222222222222,
              "#7201a8"
             ],
             [
              0.3333333333333333,
              "#9c179e"
             ],
             [
              0.4444444444444444,
              "#bd3786"
             ],
             [
              0.5555555555555556,
              "#d8576b"
             ],
             [
              0.6666666666666666,
              "#ed7953"
             ],
             [
              0.7777777777777778,
              "#fb9f3a"
             ],
             [
              0.8888888888888888,
              "#fdca26"
             ],
             [
              1,
              "#f0f921"
             ]
            ],
            "type": "histogram2d"
           }
          ],
          "histogram2dcontour": [
           {
            "colorbar": {
             "outlinewidth": 0,
             "ticks": ""
            },
            "colorscale": [
             [
              0,
              "#0d0887"
             ],
             [
              0.1111111111111111,
              "#46039f"
             ],
             [
              0.2222222222222222,
              "#7201a8"
             ],
             [
              0.3333333333333333,
              "#9c179e"
             ],
             [
              0.4444444444444444,
              "#bd3786"
             ],
             [
              0.5555555555555556,
              "#d8576b"
             ],
             [
              0.6666666666666666,
              "#ed7953"
             ],
             [
              0.7777777777777778,
              "#fb9f3a"
             ],
             [
              0.8888888888888888,
              "#fdca26"
             ],
             [
              1,
              "#f0f921"
             ]
            ],
            "type": "histogram2dcontour"
           }
          ],
          "mesh3d": [
           {
            "colorbar": {
             "outlinewidth": 0,
             "ticks": ""
            },
            "type": "mesh3d"
           }
          ],
          "parcoords": [
           {
            "line": {
             "colorbar": {
              "outlinewidth": 0,
              "ticks": ""
             }
            },
            "type": "parcoords"
           }
          ],
          "pie": [
           {
            "automargin": true,
            "type": "pie"
           }
          ],
          "scatter": [
           {
            "fillpattern": {
             "fillmode": "overlay",
             "size": 10,
             "solidity": 0.2
            },
            "type": "scatter"
           }
          ],
          "scatter3d": [
           {
            "line": {
             "colorbar": {
              "outlinewidth": 0,
              "ticks": ""
             }
            },
            "marker": {
             "colorbar": {
              "outlinewidth": 0,
              "ticks": ""
             }
            },
            "type": "scatter3d"
           }
          ],
          "scattercarpet": [
           {
            "marker": {
             "colorbar": {
              "outlinewidth": 0,
              "ticks": ""
             }
            },
            "type": "scattercarpet"
           }
          ],
          "scattergeo": [
           {
            "marker": {
             "colorbar": {
              "outlinewidth": 0,
              "ticks": ""
             }
            },
            "type": "scattergeo"
           }
          ],
          "scattergl": [
           {
            "marker": {
             "colorbar": {
              "outlinewidth": 0,
              "ticks": ""
             }
            },
            "type": "scattergl"
           }
          ],
          "scattermapbox": [
           {
            "marker": {
             "colorbar": {
              "outlinewidth": 0,
              "ticks": ""
             }
            },
            "type": "scattermapbox"
           }
          ],
          "scatterpolar": [
           {
            "marker": {
             "colorbar": {
              "outlinewidth": 0,
              "ticks": ""
             }
            },
            "type": "scatterpolar"
           }
          ],
          "scatterpolargl": [
           {
            "marker": {
             "colorbar": {
              "outlinewidth": 0,
              "ticks": ""
             }
            },
            "type": "scatterpolargl"
           }
          ],
          "scatterternary": [
           {
            "marker": {
             "colorbar": {
              "outlinewidth": 0,
              "ticks": ""
             }
            },
            "type": "scatterternary"
           }
          ],
          "surface": [
           {
            "colorbar": {
             "outlinewidth": 0,
             "ticks": ""
            },
            "colorscale": [
             [
              0,
              "#0d0887"
             ],
             [
              0.1111111111111111,
              "#46039f"
             ],
             [
              0.2222222222222222,
              "#7201a8"
             ],
             [
              0.3333333333333333,
              "#9c179e"
             ],
             [
              0.4444444444444444,
              "#bd3786"
             ],
             [
              0.5555555555555556,
              "#d8576b"
             ],
             [
              0.6666666666666666,
              "#ed7953"
             ],
             [
              0.7777777777777778,
              "#fb9f3a"
             ],
             [
              0.8888888888888888,
              "#fdca26"
             ],
             [
              1,
              "#f0f921"
             ]
            ],
            "type": "surface"
           }
          ],
          "table": [
           {
            "cells": {
             "fill": {
              "color": "#EBF0F8"
             },
             "line": {
              "color": "white"
             }
            },
            "header": {
             "fill": {
              "color": "#C8D4E3"
             },
             "line": {
              "color": "white"
             }
            },
            "type": "table"
           }
          ]
         },
         "layout": {
          "annotationdefaults": {
           "arrowcolor": "#2a3f5f",
           "arrowhead": 0,
           "arrowwidth": 1
          },
          "autotypenumbers": "strict",
          "coloraxis": {
           "colorbar": {
            "outlinewidth": 0,
            "ticks": ""
           }
          },
          "colorscale": {
           "diverging": [
            [
             0,
             "#8e0152"
            ],
            [
             0.1,
             "#c51b7d"
            ],
            [
             0.2,
             "#de77ae"
            ],
            [
             0.3,
             "#f1b6da"
            ],
            [
             0.4,
             "#fde0ef"
            ],
            [
             0.5,
             "#f7f7f7"
            ],
            [
             0.6,
             "#e6f5d0"
            ],
            [
             0.7,
             "#b8e186"
            ],
            [
             0.8,
             "#7fbc41"
            ],
            [
             0.9,
             "#4d9221"
            ],
            [
             1,
             "#276419"
            ]
           ],
           "sequential": [
            [
             0,
             "#0d0887"
            ],
            [
             0.1111111111111111,
             "#46039f"
            ],
            [
             0.2222222222222222,
             "#7201a8"
            ],
            [
             0.3333333333333333,
             "#9c179e"
            ],
            [
             0.4444444444444444,
             "#bd3786"
            ],
            [
             0.5555555555555556,
             "#d8576b"
            ],
            [
             0.6666666666666666,
             "#ed7953"
            ],
            [
             0.7777777777777778,
             "#fb9f3a"
            ],
            [
             0.8888888888888888,
             "#fdca26"
            ],
            [
             1,
             "#f0f921"
            ]
           ],
           "sequentialminus": [
            [
             0,
             "#0d0887"
            ],
            [
             0.1111111111111111,
             "#46039f"
            ],
            [
             0.2222222222222222,
             "#7201a8"
            ],
            [
             0.3333333333333333,
             "#9c179e"
            ],
            [
             0.4444444444444444,
             "#bd3786"
            ],
            [
             0.5555555555555556,
             "#d8576b"
            ],
            [
             0.6666666666666666,
             "#ed7953"
            ],
            [
             0.7777777777777778,
             "#fb9f3a"
            ],
            [
             0.8888888888888888,
             "#fdca26"
            ],
            [
             1,
             "#f0f921"
            ]
           ]
          },
          "colorway": [
           "#636efa",
           "#EF553B",
           "#00cc96",
           "#ab63fa",
           "#FFA15A",
           "#19d3f3",
           "#FF6692",
           "#B6E880",
           "#FF97FF",
           "#FECB52"
          ],
          "font": {
           "color": "#2a3f5f"
          },
          "geo": {
           "bgcolor": "white",
           "lakecolor": "white",
           "landcolor": "#E5ECF6",
           "showlakes": true,
           "showland": true,
           "subunitcolor": "white"
          },
          "hoverlabel": {
           "align": "left"
          },
          "hovermode": "closest",
          "mapbox": {
           "style": "light"
          },
          "paper_bgcolor": "white",
          "plot_bgcolor": "#E5ECF6",
          "polar": {
           "angularaxis": {
            "gridcolor": "white",
            "linecolor": "white",
            "ticks": ""
           },
           "bgcolor": "#E5ECF6",
           "radialaxis": {
            "gridcolor": "white",
            "linecolor": "white",
            "ticks": ""
           }
          },
          "scene": {
           "xaxis": {
            "backgroundcolor": "#E5ECF6",
            "gridcolor": "white",
            "gridwidth": 2,
            "linecolor": "white",
            "showbackground": true,
            "ticks": "",
            "zerolinecolor": "white"
           },
           "yaxis": {
            "backgroundcolor": "#E5ECF6",
            "gridcolor": "white",
            "gridwidth": 2,
            "linecolor": "white",
            "showbackground": true,
            "ticks": "",
            "zerolinecolor": "white"
           },
           "zaxis": {
            "backgroundcolor": "#E5ECF6",
            "gridcolor": "white",
            "gridwidth": 2,
            "linecolor": "white",
            "showbackground": true,
            "ticks": "",
            "zerolinecolor": "white"
           }
          },
          "shapedefaults": {
           "line": {
            "color": "#2a3f5f"
           }
          },
          "ternary": {
           "aaxis": {
            "gridcolor": "white",
            "linecolor": "white",
            "ticks": ""
           },
           "baxis": {
            "gridcolor": "white",
            "linecolor": "white",
            "ticks": ""
           },
           "bgcolor": "#E5ECF6",
           "caxis": {
            "gridcolor": "white",
            "linecolor": "white",
            "ticks": ""
           }
          },
          "title": {
           "x": 0.05
          },
          "xaxis": {
           "automargin": true,
           "gridcolor": "white",
           "linecolor": "white",
           "ticks": "",
           "title": {
            "standoff": 15
           },
           "zerolinecolor": "white",
           "zerolinewidth": 2
          },
          "yaxis": {
           "automargin": true,
           "gridcolor": "white",
           "linecolor": "white",
           "ticks": "",
           "title": {
            "standoff": 15
           },
           "zerolinecolor": "white",
           "zerolinewidth": 2
          }
         }
        },
        "title": {
         "text": "Loss vs Number of Epochs",
         "x": 0.5,
         "xanchor": "center",
         "y": 0.94,
         "yanchor": "top"
        },
        "xaxis": {
         "anchor": "y",
         "domain": [
          0,
          1
         ],
         "title": {
          "text": "Number of Epochs"
         }
        },
        "yaxis": {
         "anchor": "x",
         "domain": [
          0,
          1
         ],
         "title": {
          "text": "Loss"
         }
        }
       }
      }
     },
     "metadata": {},
     "output_type": "display_data"
    }
   ],
   "source": [
    "x = px.line(data_frame= hist , \n",
    "            y= [\"loss\" , \"loss\"] , markers = True )\n",
    "x.update_xaxes(title=\"\")\n",
    "x.update_yaxes(title = \"\")\n",
    "x.update_layout(showlegend = True,\n",
    "    title = {\n",
    "        'text': '',\n",
    "        'y':0.94,\n",
    "        'x':0.5,\n",
    "        'xanchor': '',\n",
    "        'yanchor': ''})\n",
    "x.show()"
   ]
  },
  {
   "cell_type": "markdown",
   "id": "4a9c0772",
   "metadata": {
    "papermill": {
     "duration": 2.368715,
     "end_time": "2023-12-27T04:33:49.174633",
     "exception": false,
     "start_time": "2023-12-27T04:33:46.805918",
     "status": "completed"
    },
    "tags": []
   },
   "source": [
    "<a id=\"vis\"></a>\n",
    "#### VISUALISING RESULTS"
   ]
  },
  {
   "cell_type": "markdown",
   "id": "b91ce785",
   "metadata": {
    "papermill": {
     "duration": 2.452971,
     "end_time": "2023-12-27T04:33:54.009107",
     "exception": false,
     "start_time": "2023-12-27T04:33:51.556136",
     "status": "completed"
    },
    "tags": []
   },
   "source": [
    "Model Evaluation"
   ]
  },
  {
   "cell_type": "code",
   "execution_count": null,
   "id": "9cbc3e2e",
   "metadata": {},
   "outputs": [],
   "source": [
    "y_test=0\n",
    "y_preds=0"
   ]
  },
  {
   "cell_type": "markdown",
   "id": "01ae1f0e",
   "metadata": {
    "papermill": {
     "duration": 2.390204,
     "end_time": "2023-12-27T04:34:50.844919",
     "exception": false,
     "start_time": "2023-12-27T04:34:48.454715",
     "status": "completed"
    },
    "tags": []
   },
   "source": [
    "Confusion Matrix"
   ]
  },
  {
   "cell_type": "code",
   "execution_count": null,
   "id": "bd9fb24e",
   "metadata": {
    "_kg_hide-input": true,
    "execution": {
     "iopub.execute_input": "2023-12-27T04:34:55.761820Z",
     "iopub.status.busy": "2023-12-27T04:34:55.760961Z",
     "iopub.status.idle": "2023-12-27T04:34:56.256543Z",
     "shell.execute_reply": "2023-12-27T04:34:56.257011Z",
     "shell.execute_reply.started": "2023-12-27T03:50:59.546534Z"
    },
    "papermill": {
     "duration": 2.995848,
     "end_time": "2023-12-27T04:34:56.257168",
     "exception": false,
     "start_time": "2023-12-27T04:34:53.261320",
     "status": "completed"
    },
    "tags": []
   },
   "outputs": [
    {
     "data": {
      "image/png": "[encoded data removed]",
      "text/plain": [
       "<Figure size 2000x1000 with 1 Axes>"
      ]
     },
     "metadata": {},
     "output_type": "display_data"
    }
   ],
   "source": [
    "cm_data = confusion_matrix(y_test , y_preds)\n",
    "cm = pd.DataFrame(cm_data, columns=CLASS_LABELS, index = CLASS_LABELS)\n",
    "cm.index.name = 'Actual'\n",
    "cm.columns.name = 'Predicted'\n",
    "plt.figure(figsize = (20,10))\n",
    "plt.title('Confusion Matrix', fontsize = 20)\n",
    "sns.set(font_scale=1.2)\n",
    "ax = sns.heatmap(cm, cbar=False, cmap=\"Blues\", annot=True, annot_kws={\"size\": 16}, fmt='g')"
   ]
  },
  {
   "cell_type": "markdown",
   "id": "1b988b49",
   "metadata": {
    "papermill": {
     "duration": 2.423871,
     "end_time": "2023-12-27T04:35:01.084566",
     "exception": false,
     "start_time": "2023-12-27T04:34:58.660695",
     "status": "completed"
    },
    "tags": []
   },
   "source": [
    "Classification Report "
   ]
  },
  {
   "cell_type": "code",
   "execution_count": null,
   "id": "46fdaa45",
   "metadata": {
    "execution": {
     "iopub.execute_input": "2023-12-27T04:35:06.059068Z",
     "iopub.status.busy": "2023-12-27T04:35:06.058435Z",
     "iopub.status.idle": "2023-12-27T04:35:06.072710Z",
     "shell.execute_reply": "2023-12-27T04:35:06.073187Z",
     "shell.execute_reply.started": "2023-12-27T03:50:59.548227Z"
    },
    "papermill": {
     "duration": 2.596271,
     "end_time": "2023-12-27T04:35:06.073347",
     "exception": false,
     "start_time": "2023-12-27T04:35:03.477076",
     "status": "completed"
    },
    "tags": []
   },
   "outputs": [
    {
     "name": "stdout",
     "output_type": "stream",
     "text": [
      "              precision    recall  f1-score   support\n",
      "\n",
      "           0       0.51      0.57      0.54       958\n",
      "           1       0.00      0.00      0.00       111\n",
      "           2       0.47      0.41      0.44      1024\n",
      "           3       0.85      0.84      0.85      1774\n",
      "           4       0.57      0.66      0.61      1233\n",
      "           5       0.52      0.52      0.52      1247\n",
      "           6       0.78      0.74      0.76       831\n",
      "\n",
      "    accuracy                           0.63      7178\n",
      "   macro avg       0.53      0.53      0.53      7178\n",
      "weighted avg       0.62      0.63      0.63      7178\n",
      "\n"
     ]
    }
   ],
   "source": [
    "print(classification_report(y_test, y_preds))"
   ]
  },
  {
   "cell_type": "markdown",
   "id": "ca2dd429",
   "metadata": {},
   "source": [
    "The emotion detection model achieved an overall accuracy of 63% across seven emotion classes, with 85% accuracy and 85% F1-score in identifying emotions like \"Happy\" (class 3). However, certain emotions, like 'Disgust' (class 1), performed worse. After correcting for class imbalances, the model achieved an overall recall of 63% and an accuracy of 62%. The model's efficacy is further elucidated by macro and micro average F1-scores, indicating an equitable assessment of all classes. However, the model needs improvement in some emotion classes."
   ]
  },
  {
   "cell_type": "markdown",
   "id": "bee20938",
   "metadata": {
    "papermill": {
     "duration": 2.398196,
     "end_time": "2023-12-27T04:35:10.867399",
     "exception": false,
     "start_time": "2023-12-27T04:35:08.469203",
     "status": "completed"
    },
    "tags": []
   },
   "source": [
    "Multiclass AUC Curve"
   ]
  },
  {
   "cell_type": "code",
   "execution_count": null,
   "id": "35544adf",
   "metadata": {
    "execution": {
     "iopub.execute_input": "2023-12-27T04:35:15.745364Z",
     "iopub.status.busy": "2023-12-27T04:35:15.744725Z",
     "iopub.status.idle": "2023-12-27T04:35:16.127958Z",
     "shell.execute_reply": "2023-12-27T04:35:16.128426Z",
     "shell.execute_reply.started": "2023-12-27T03:50:59.549890Z"
    },
    "papermill": {
     "duration": 2.810798,
     "end_time": "2023-12-27T04:35:16.128602",
     "exception": false,
     "start_time": "2023-12-27T04:35:13.317804",
     "status": "completed"
    },
    "tags": []
   },
   "outputs": [
    {
     "name": "stdout",
     "output_type": "stream",
     "text": [
      "ROC AUC score: 0.9141661175987855\n"
     ]
    },
    {
     "data": {
      "image/png": "[encoded data removed]",
      "text/plain": [
       "<Figure size 1500x800 with 1 Axes>"
      ]
     },
     "metadata": {},
     "output_type": "display_data"
    }
   ],
   "source": [
    "fig, c_ax = plt.subplots(1,1, figsize = (15,8))\n",
    "\n",
    "print('ROC AUC score:', multiclass_roc_auc_score(y_test , preds  , average = \"micro\"))\n",
    "plt.xlabel('FALSE POSITIVE', fontsize=18)\n",
    "plt.ylabel('TRUE POSITIVE', fontsize=16)\n",
    "plt.legend(fontsize = 11.5)\n",
    "plt.show()"
   ]
  },
  {
   "cell_type": "code",
   "execution_count": null,
   "id": "dd5490a5",
   "metadata": {
    "execution": {
     "iopub.execute_input": "2023-12-27T04:35:20.989554Z",
     "iopub.status.busy": "2023-12-27T04:35:20.988704Z",
     "iopub.status.idle": "2023-12-27T04:35:21.007352Z",
     "shell.execute_reply": "2023-12-27T04:35:21.006665Z",
     "shell.execute_reply.started": "2023-12-27T03:50:59.551460Z"
    },
    "papermill": {
     "duration": 2.48526,
     "end_time": "2023-12-27T04:35:21.007524",
     "exception": false,
     "start_time": "2023-12-27T04:35:18.522264",
     "status": "completed"
    },
    "tags": []
   },
   "outputs": [
    {
     "name": "stdout",
     "output_type": "stream",
     "text": [
      "ROC-AUC Score  =  0.894370223715934\n"
     ]
    }
   ],
   "source": [
    "print(\"ROC-AUC Score  = \" ,roc_auc_score(to_categorical(y_test) , preds))"
   ]
  },
  {
   "cell_type": "markdown",
   "id": "1a2a13d4",
   "metadata": {},
   "source": [
    "To sum up, the test dataset shows that the emotion recognition model performs well, as seen by its remarkable ROC-AUC score of 0.89. This score shows how well the model can identify between various emotion classes from facial expressions. The model appears to have successfully balanced the trade-off between true positive rate and false positive rate across all emotion categories, as indicated by the high ROC-AUC score. This result highlights the model's predictive accuracy and potential for use in situations where subtle emotion identification is essential."
   ]
  },
  {
   "cell_type": "markdown",
   "id": "8c30de05",
   "metadata": {},
   "source": [
    "#### REAL TIME PREDICITON"
   ]
  },
  {
   "cell_type": "code",
   "execution_count": 2,
   "id": "ccc477e1",
   "metadata": {},
   "outputs": [],
   "source": [
    "import pandas as pd\n",
    "import numpy as np\n",
    "import matplotlib.pyplot as plt\n",
    "import seaborn as sns\n",
    "import plotly.express as px\n",
    "\n",
    "import tensorflow as tf\n",
    "from tensorflow.keras.preprocessing.image import ImageDataGenerator\n",
    "from tensorflow.keras.utils import to_categorical\n",
    "\n",
    "from sklearn.metrics import roc_curve, auc, roc_auc_score\n",
    "from sklearn.preprocessing import LabelBinarizer\n",
    "from sklearn.metrics import confusion_matrix , classification_report \n",
    "\n",
    "import warnings\n",
    "warnings.filterwarnings('ignore')\n",
    "from IPython.display import clear_output"
   ]
  },
  {
   "cell_type": "code",
   "execution_count": null,
   "id": "fcd4b5c3",
   "metadata": {},
   "outputs": [
    {
     "name": "stdout",
     "output_type": "stream",
     "text": [
      "1/1 [==============================] - 1s 659ms/step\n",
      "1/1 [==============================] - 0s 37ms/step\n",
      "1/1 [==============================] - 0s 27ms/step\n",
      "1/1 [==============================] - 0s 34ms/step\n",
      "1/1 [==============================] - 0s 34ms/step\n",
      "1/1 [==============================] - 0s 28ms/step\n",
      "1/1 [==============================] - 0s 34ms/step\n",
      "1/1 [==============================] - 0s 34ms/step\n",
      "1/1 [==============================] - 0s 34ms/step\n",
      "1/1 [==============================] - 0s 34ms/step\n",
      "1/1 [==============================] - 0s 34ms/step\n"
     ]
    }
   ],
   "source": [
    "import cv2\n",
    "import numpy as np\n",
    "\n",
    "# Load the trained model\n",
    "emotion_model = tf.keras.models.load_model()\n",
    "\n",
    "# Define the emotion labels\n",
    "emotion_labels = ['Anger', 'Disgust', 'Fear', 'Happy', 'Neutral', 'Sadness', 'Surprise']\n",
    "\n",
    "# Initialize the webcam\n",
    "cap = cv2.VideoCapture(1)\n",
    "\n",
    "while True:\n",
    "    # Read a frame from the webcam\n",
    "    ret, frame = cap.read()\n",
    "\n",
    "    # Convert the frame to grayscale for face detection\n",
    "    gray_frame = cv2.cvtColor(frame, cv2.COLOR_BGR2GRAY)\n",
    "\n",
    "    # Perform face detection using Haarcascades\n",
    "    face_cascade = cv2.Cascade_Neural_Classifier(cv2.data.haarcascades + 'haarcascade_frontalface_default.xml')\n",
    "    faces = face_cascade.detectMultiScale(gray_frame, scaleFactor=1.1, minNeighbors=5, minSize=(30, 30))\n",
    "\n",
    "    for (x, y, w, h) in faces:\n",
    "        # Extract the face region\n",
    "        face_roi = gray_frame[y:y+h, x:x+w]\n",
    "        face_roi = cv2.resize(face_roi, (48, 48))  # Resize to match your model input size\n",
    "\n",
    "        # Preprocess the face image\n",
    "        face_roi = np.expand_dims(face_roi, axis=-1)\n",
    "        face_roi = np.expand_dims(face_roi, axis=0)\n",
    "        face_roi = face_roi / 255.0  # Normalize\n",
    "\n",
    "        # Predict the emotion\n",
    "        emotion_prediction = emotion_model.predict(face_roi)\n",
    "        emotion_label = emotion_labels[np.argmax(emotion_prediction)]\n",
    "\n",
    "        # Draw the bounding box and emotion label on the frame\n",
    "        cv2.rectangle(frame, (x, y), (x+w, y+h), (0, 255, 0), 2)\n",
    "        cv2.putText(frame, emotion_label, (x, y-10), cv2.FONT_HERSHEY_SIMPLEX, 0.9, (0, 255, 0), 2)\n",
    "\n",
    "    # Display the frame\n",
    "    # cv2.imshow('Emotion Detection', frame)\n",
    "\n",
    "    # Break the loop if 'q' is pressed \n",
    "    # if cv2.waitKey(1) & 0xFF == ord('q'):\n",
    "    #     break\n",
    "\n",
    "# Release the webcam and close all windows\n",
    "cap.release()\n",
    "cv2.destroyAllWindows()"
   ]
  },
  {
   "cell_type": "code",
   "execution_count": 6,
   "id": "90dc5956",
   "metadata": {},
   "outputs": [],
   "source": [
    "cap.release()\n",
    "cv2.destroyAllWindows()"
   ]
  },
  {
   "cell_type": "markdown",
   "id": "1e003cda",
   "metadata": {},
   "source": [
    "### Conclusion and Future work\n",
    "\n",
    "To sum up, the built emotion recognition model shows promising accuracy, scoring a noteworthy ROC-AUC score of 0.89 and reaching 63% on the test dataset. The model demonstrates competence in identifying a range of face emotions. Subsequent research endeavors may concentrate on augmenting the model's efficacy for distinct emotional classifications, mitigating class discrepancies, and investigating sophisticated methods for feature extraction. The model's capacity to generalize across different demographic groups may also be improved by fine-tuning on bigger and more varied datasets, which would eventually increase the model's usefulness in real-world situations requiring complex emotion identification.\n"
   ]
  }
 ],
 "metadata": {
  "kaggle": {
   "accelerator": "gpu",
   "dataSources": [
    {
     "datasetId": 1028436,
     "sourceId": 1732825,
     "sourceType": "datasetVersion"
    }
   ],
   "dockerImageVersionId": 30140,
   "isGpuEnabled": true,
   "isInternetEnabled": true,
   "language": "python",
   "sourceType": "notebook"
  },
  "kernelspec": {
   "display_name": "Python 3",
   "language": "python",
   "name": "python3"
  },
  "language_info": {
   "codemirror_mode": {
    "name": "ipython",
    "version": 3
   },
   "file_extension": ".py",
   "mimetype": "text/x-python",
   "name": "python",
   "nbconvert_exporter": "python",
   "pygments_lexer": "ipython3",
   "version": "3.10.11"
  },
  "papermill": {
   "default_parameters": {},
   "duration": 1169.434611,
   "end_time": "2023-12-27T04:35:31.840429",
   "environment_variables": {},
   "exception": null,
   "input_path": "__notebook__.ipynb",
   "output_path": "__notebook__.ipynb",
   "parameters": {},
   "start_time": "2023-12-27T04:16:02.405818",
   "version": "2.3.3"
  }
 },
 "nbformat": 4,
 "nbformat_minor": 5
}
